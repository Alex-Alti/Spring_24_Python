{
 "cells": [
  {
   "cell_type": "markdown",
   "id": "66c87dc7048dbbb4",
   "metadata": {
    "collapsed": false,
    "jupyter": {
     "outputs_hidden": false
    }
   },
   "source": [
    "Section 1"
   ]
  },
  {
   "cell_type": "code",
   "execution_count": null,
   "id": "5a69245ba5cb6c87",
   "metadata": {
    "collapsed": false,
    "jupyter": {
     "outputs_hidden": false
    }
   },
   "outputs": [],
   "source": [
    "Python 3.12.1 (tags/v3.12.1:2305ca5, Dec  7 2023, 22:03:25) [MSC v.1937 64 bit (AMD64)] on win32\n",
    "Type \"help\", \"copyright\", \"credits\" or \"license\" for more information."
   ]
  },
  {
   "cell_type": "markdown",
   "id": "67007cd16f5e13f6",
   "metadata": {
    "collapsed": false,
    "jupyter": {
     "outputs_hidden": false
    }
   },
   "source": [
    "Section 2"
   ]
  },
  {
   "cell_type": "code",
   "execution_count": null,
   "id": "3e80a390f1cb94dc",
   "metadata": {
    "collapsed": false,
    "jupyter": {
     "outputs_hidden": false
    }
   },
   "outputs": [],
   "source": [
    "print('Hello, World!')"
   ]
  },
  {
   "cell_type": "code",
   "execution_count": null,
   "id": "8a661bfda8e4667e",
   "metadata": {
    "collapsed": false,
    "jupyter": {
     "outputs_hidden": false
    }
   },
   "outputs": [],
   "source": [
    "Hello, World!"
   ]
  },
  {
   "cell_type": "markdown",
   "id": "7fe990272123dcb9",
   "metadata": {
    "collapsed": false,
    "jupyter": {
     "outputs_hidden": false
    }
   },
   "source": [
    "Section 3"
   ]
  },
  {
   "cell_type": "code",
   "execution_count": null,
   "id": "9ad7c94c66de1a97",
   "metadata": {
    "collapsed": false,
    "jupyter": {
     "outputs_hidden": false
    }
   },
   "outputs": [],
   "source": [
    "print('Alex Altiere')"
   ]
  },
  {
   "cell_type": "markdown",
   "id": "222a80564d5078e4",
   "metadata": {
    "collapsed": false,
    "jupyter": {
     "outputs_hidden": false
    }
   },
   "source": [
    "My name is Alex Altiere, and I am currently a junior at FAU studying data science. I enjoy surfing and snowboarding in my free time."
   ]
  },
  {
   "cell_type": "markdown",
   "id": "358b977384b68382",
   "metadata": {
    "collapsed": false,
    "jupyter": {
     "outputs_hidden": false
    }
   },
   "source": [
    "Section 4"
   ]
  },
  {
   "cell_type": "code",
   "execution_count": null,
   "id": "9a4d5ea38e30b59b",
   "metadata": {
    "collapsed": false,
    "jupyter": {
     "outputs_hidden": false
    }
   },
   "outputs": [],
   "source": [
    "a = 5\n",
    "b = 10\n",
    "c = 15"
   ]
  },
  {
   "cell_type": "code",
   "execution_count": null,
   "id": "8142ae0e72fb677c",
   "metadata": {
    "collapsed": false,
    "jupyter": {
     "outputs_hidden": false
    }
   },
   "outputs": [],
   "source": [
    "abcmean = (a + b + c)/3\n",
    "print(abcmean)"
   ]
  },
  {
   "cell_type": "markdown",
   "id": "74a22ced51767389",
   "metadata": {
    "collapsed": false,
    "jupyter": {
     "outputs_hidden": false
    }
   },
   "source": [
    "Section 5"
   ]
  },
  {
   "cell_type": "code",
   "execution_count": 1,
   "id": "8f8cbf181b44efd8",
   "metadata": {
    "ExecuteTime": {
     "end_time": "2024-01-12T04:51:33.791912900Z",
     "start_time": "2024-01-12T04:51:33.767989100Z"
    },
    "collapsed": false,
    "jupyter": {
     "outputs_hidden": false
    }
   },
   "outputs": [
    {
     "data": {
      "text/plain": [
       "'Alex Timothy Altiere'"
      ]
     },
     "execution_count": 1,
     "metadata": {},
     "output_type": "execute_result"
    }
   ],
   "source": [
    "first_name = ('Alex ')\n",
    "middle_name = ('Timothy ')\n",
    "last_name = ('Altiere')\n",
    "full_name = first_name + middle_name + last_name \n",
    "full_name"
   ]
  },
  {
   "cell_type": "code",
   "execution_count": 2,
   "id": "d9dc1b03e6f9e6b4",
   "metadata": {
    "ExecuteTime": {
     "end_time": "2024-01-12T04:53:23.844321500Z",
     "start_time": "2024-01-12T04:53:23.833829300Z"
    },
    "collapsed": false,
    "jupyter": {
     "outputs_hidden": false
    }
   },
   "outputs": [
    {
     "name": "stdout",
     "output_type": "stream",
     "text": [
      "Alex Timothy Altiere\n"
     ]
    }
   ],
   "source": [
    "print(full_name) #The difference we are observing in the output of this cell and the above is due to differing commands. In the above cell, we are inspecting the variable 'full_name\", which returns the full string. However, in this cell, when we use the print function, we are merely printing the variable 'full_name', which results in the quotation marks being removed."
   ]
  },
  {
   "cell_type": "code",
   "execution_count": 3,
   "id": "fdb48618f32817a7",
   "metadata": {
    "ExecuteTime": {
     "end_time": "2024-01-12T04:53:38.146190Z",
     "start_time": "2024-01-12T04:53:38.130547300Z"
    },
    "collapsed": false,
    "jupyter": {
     "outputs_hidden": false
    }
   },
   "outputs": [
    {
     "name": "stdout",
     "output_type": "stream",
     "text": [
      "Python\n"
     ]
    }
   ],
   "source": [
    "string_indexing = ('PythonProgramming')\n",
    "\n",
    "print (string_indexing[0:6])"
   ]
  },
  {
   "cell_type": "code",
   "execution_count": null,
   "id": "a547d98ca416a2d4",
   "metadata": {
    "collapsed": false,
    "jupyter": {
     "outputs_hidden": false
    }
   },
   "outputs": [],
   "source": []
  }
 ],
 "metadata": {
  "kernelspec": {
   "display_name": "Python 3 (ipykernel)",
   "language": "python",
   "name": "python3"
  },
  "language_info": {
   "codemirror_mode": {
    "name": "ipython",
    "version": 3
   },
   "file_extension": ".py",
   "mimetype": "text/x-python",
   "name": "python",
   "nbconvert_exporter": "python",
   "pygments_lexer": "ipython3",
   "version": "3.9.13"
  }
 },
 "nbformat": 4,
 "nbformat_minor": 5
}
